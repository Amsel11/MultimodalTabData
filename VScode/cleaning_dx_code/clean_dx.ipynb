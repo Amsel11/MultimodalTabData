{
 "cells": [
  {
   "cell_type": "markdown",
   "id": "253f926b",
   "metadata": {},
   "source": [
    "1. need to separate diagnoses into gliomas, meningiomas, and metastases\n",
    "*used chatgpt to separate master csv into 4 categories\n",
    "2. further clean data\n",
    "*to reduce variance and confounding variables, made all the diagnoses go under 4 distinct groups\n",
    "3. understand data "
   ]
  },
  {
   "cell_type": "code",
   "execution_count": 8,
   "id": "e3d9b999",
   "metadata": {},
   "outputs": [],
   "source": [
    "# putting all diagnoses under 4 distinct categories\n",
    "\n",
    "import pandas as pd\n",
    "import os\n",
    "\n",
    "# 1. Load your data\n",
    "df = pd.read_csv('/Users/joi263/Documents/MultimodalTabData/data/convnext_data/convnext_cleaned_master.csv')\n",
    "\n",
    "# 2. Define your mapping logic\n",
    "def map_to_group(dx):\n",
    "    dx = str(dx).lower()\n",
    "    if any(sub in dx for sub in ('glioblastoma', 'glioma', 'astrocytoma', 'oligodendroglioma')):\n",
    "        return 'glioma'\n",
    "    elif 'meningioma' in dx:\n",
    "        return 'meningioma'\n",
    "    elif any(sub in dx for sub in ('metastatic', 'metastasis')):\n",
    "        return 'metastasis'\n",
    "    else:\n",
    "        return 'other'\n",
    "\n",
    "# 3. Apply it\n",
    "df['diagnosis_group'] = df['permanent'].apply(map_to_group)\n",
    "\n",
    "# 4. Make it a true categorical\n",
    "df['diagnosis_group'] = df['diagnosis_group'].astype(\n",
    "    pd.CategoricalDtype(\n",
    "        categories=['glioma','meningioma','metastasis','other'], \n",
    "        ordered=False)\n",
    ")\n"
   ]
  },
  {
   "cell_type": "code",
   "execution_count": null,
   "id": "a4ea1f96",
   "metadata": {},
   "outputs": [],
   "source": [
    "# 5a. If you’re fitting a model that takes numeric inputs only,\n",
    "#     one-hot encode:\n",
    "\n",
    "df = pd.get_dummies(df, columns=['diagnosis_group'], prefix='dx')\n",
    "\n",
    "# 5b. If your model can take categoricals (e.g., many tree-based methods),\n",
    "#     you can leave `diagnosis_group` as-is.\n",
    "\n",
    "# (Save or proceed with analysis)\n",
    "df.to_csv('convnext_cleaned_distinct_dx_categories.csv', index=False)"
   ]
  },
  {
   "cell_type": "code",
   "execution_count": 9,
   "id": "c9a7451e",
   "metadata": {},
   "outputs": [],
   "source": [
    "# 6. Ensure output directory exists\n",
    "out_path = '/Users/joi263/Documents/MultimodalTabData/data/convnext_data'"
   ]
  },
  {
   "cell_type": "code",
   "execution_count": 10,
   "id": "bfc4338a",
   "metadata": {},
   "outputs": [
    {
     "name": "stdout",
     "output_type": "stream",
     "text": [
      "Wrote 510 rows to /Users/joi263/Documents/MultimodalTabData/data/convnext_data/convnext_cleaned_distinct_dx_categories.csv\n"
     ]
    }
   ],
   "source": [
    "# 7. Write the new CSV there\n",
    "output_file = os.path.join(out_path, 'convnext_cleaned_distinct_dx_categories.csv')\n",
    "df.to_csv(output_file, index=False)\n",
    "print(f'Wrote {len(df)} rows to {output_file}')"
   ]
  }
 ],
 "metadata": {
  "kernelspec": {
   "display_name": "neurosurgery",
   "language": "python",
   "name": "python3"
  },
  "language_info": {
   "codemirror_mode": {
    "name": "ipython",
    "version": 3
   },
   "file_extension": ".py",
   "mimetype": "text/x-python",
   "name": "python",
   "nbconvert_exporter": "python",
   "pygments_lexer": "ipython3",
   "version": "3.10.13"
  }
 },
 "nbformat": 4,
 "nbformat_minor": 5
}
